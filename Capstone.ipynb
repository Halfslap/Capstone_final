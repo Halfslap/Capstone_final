{
 "cells": [
  {
   "cell_type": "code",
   "execution_count": 1,
   "id": "05c80054-4a22-4300-80b6-17f076657c82",
   "metadata": {},
   "outputs": [],
   "source": [
    "import pandas as pd\n",
    "%matplotlib inline\n",
    "import matplotlib\n",
    "import numpy as np\n",
    "import matplotlib.pyplot as plt\n",
    "from plotly import graph_objects\n",
    "import streamlit as st"
   ]
  },
  {
   "cell_type": "code",
   "execution_count": 2,
   "id": "c3e8b3e0-8f16-4290-b5ec-78c9aa3ceba6",
   "metadata": {},
   "outputs": [
    {
     "data": {
      "text/plain": [
       "'2.1.0'"
      ]
     },
     "execution_count": 2,
     "metadata": {},
     "output_type": "execute_result"
    }
   ],
   "source": [
    "pd.__version__"
   ]
  },
  {
   "cell_type": "code",
   "execution_count": 3,
   "id": "76cf3b3c-b354-4ec0-9fe6-38616083e33b",
   "metadata": {},
   "outputs": [
    {
     "data": {
      "text/plain": [
       "'1.25.2'"
      ]
     },
     "execution_count": 3,
     "metadata": {},
     "output_type": "execute_result"
    }
   ],
   "source": [
    "np.__version__"
   ]
  },
  {
   "cell_type": "code",
   "execution_count": 4,
   "id": "df6c4eac-3463-4cc9-9de6-222256ca7c67",
   "metadata": {},
   "outputs": [
    {
     "data": {
      "text/plain": [
       "'C:\\\\Users\\\\McLovin\\\\miniconda3\\\\envs\\\\spyder_env\\\\Lib\\\\site-packages\\\\matplotlib\\\\pyplot.py'"
      ]
     },
     "execution_count": 4,
     "metadata": {},
     "output_type": "execute_result"
    }
   ],
   "source": [
    "plt.__file__"
   ]
  },
  {
   "cell_type": "code",
   "execution_count": 5,
   "id": "0779b3b8-5f02-42af-91f6-bfa12ab28802",
   "metadata": {},
   "outputs": [
    {
     "data": {
      "text/plain": [
       "'1.27.1'"
      ]
     },
     "execution_count": 5,
     "metadata": {},
     "output_type": "execute_result"
    }
   ],
   "source": [
    "st.__version__"
   ]
  },
  {
   "cell_type": "code",
   "execution_count": null,
   "id": "76b8e066-d436-45ae-836f-bf25af04e0b2",
   "metadata": {},
   "outputs": [],
   "source": [
    "st.text('Fixed width text')\n",
    "st.markdown('_Markdown_') # see #*\n",
    "st.caption('Balloons. Hundreds of them...')\n",
    "st.latex(r''' e^{i\\pi} + 1 = 0 ''')\n",
    "st.write('Most objects') # df, err, func, keras!\n",
    "st.write(['st', 'is <', 3]) # see *\n",
    "st.title('My title')\n",
    "st.header('My header')\n",
    "st.subheader('My sub')\n",
    "st.code('for i in range(8): foo()')\n",
    "\n",
    "# * optional kwarg unsafe_allow_html = True\n"
   ]
  },
  {
   "cell_type": "markdown",
   "id": "22038b14-51da-45f6-bca5-b60243c74583",
   "metadata": {},
   "source": [
    "## Import data"
   ]
  },
  {
   "cell_type": "code",
   "execution_count": null,
   "id": "96ec0172-9a5e-4c41-beaf-a047795ef129",
   "metadata": {},
   "outputs": [],
   "source": [
    "# Import Data\n",
    "health_data = pd.read_csv(\"New Data/oura_2019-01-01_2023-09-09_trends_Original.csv\")"
   ]
  },
  {
   "cell_type": "markdown",
   "id": "6638f58d-6f3d-4e37-b561-04a93578a5eb",
   "metadata": {},
   "source": [
    "## View data"
   ]
  },
  {
   "cell_type": "code",
   "execution_count": null,
   "id": "af88cb50-fd18-433b-ad10-95f4b2852b9e",
   "metadata": {},
   "outputs": [],
   "source": [
    "health_data"
   ]
  },
  {
   "cell_type": "markdown",
   "id": "e68ff35c-9b6f-4230-aab6-a5a56457754b",
   "metadata": {},
   "source": [
    "## Describe Data"
   ]
  },
  {
   "cell_type": "code",
   "execution_count": null,
   "id": "11093c54-e8e0-4460-abfb-eb5429c16f23",
   "metadata": {},
   "outputs": [],
   "source": [
    "# Attribute\n",
    "health_data.dtypes"
   ]
  },
  {
   "cell_type": "markdown",
   "id": "d10f9065-63cf-49f2-b4c2-7bbabdba8abd",
   "metadata": {},
   "source": [
    "## Set up dataframe"
   ]
  },
  {
   "cell_type": "code",
   "execution_count": null,
   "id": "0c080460-bae3-476c-a7d2-761bfea3eae0",
   "metadata": {},
   "outputs": [],
   "source": [
    "df = pd.DataFrame(health_data)"
   ]
  },
  {
   "cell_type": "code",
   "execution_count": null,
   "id": "1e9ead36-2c88-463f-bfa0-ee353d7136cc",
   "metadata": {},
   "outputs": [],
   "source": [
    "df.info()"
   ]
  },
  {
   "cell_type": "code",
   "execution_count": null,
   "id": "c193b131-00bd-486e-9e33-0e1d8e0a7ce7",
   "metadata": {},
   "outputs": [],
   "source": []
  },
  {
   "cell_type": "markdown",
   "id": "bc0d24ae-ff25-41f8-ac66-d0a5f4c3c021",
   "metadata": {},
   "source": [
    "## Convert Sleep Duration and Rest Time to hours"
   ]
  },
  {
   "cell_type": "code",
   "execution_count": null,
   "id": "25e904be-694f-49b3-8ada-ff5e9f71b3e2",
   "metadata": {},
   "outputs": [],
   "source": [
    "df[\"Total Sleep Duration\"] = df[\"Total Sleep Duration\"] / 3600\n",
    "df[\"Rest Time\"] = df[\"Rest Time\"] / 3600\n",
    "\n",
    "df[\"Total Sleep Duration\"], df[\"Rest Time\"]"
   ]
  },
  {
   "cell_type": "code",
   "execution_count": null,
   "id": "64794cc1-dce5-45f4-ac75-1e38b563c4c8",
   "metadata": {},
   "outputs": [],
   "source": [
    "pd.crosstab(df[\"Total Sleep Duration\"] > 7, df[\"Readiness Score\"] >85)"
   ]
  },
  {
   "cell_type": "code",
   "execution_count": null,
   "id": "d4f3e4c6-0ce2-41e5-ab7b-fd3d970bc78b",
   "metadata": {},
   "outputs": [],
   "source": [
    "df[\"Readiness Score\"].hist(figsize=(10, 10))"
   ]
  },
  {
   "cell_type": "markdown",
   "id": "2f9806a3-52bf-45b3-9447-5104be106df2",
   "metadata": {},
   "source": [
    "## Manipulating Data"
   ]
  },
  {
   "cell_type": "code",
   "execution_count": null,
   "id": "e1c6de15-c2a1-407b-8464-e9378d839e27",
   "metadata": {},
   "outputs": [],
   "source": [
    "df.dropna(inplace=True)"
   ]
  },
  {
   "cell_type": "code",
   "execution_count": null,
   "id": "406c761a-9096-4e96-ae4d-43e45ecabad4",
   "metadata": {},
   "outputs": [],
   "source": [
    "df.info()"
   ]
  },
  {
   "cell_type": "code",
   "execution_count": null,
   "id": "2596571f-115d-4e11-9c29-9b7ccea4a26e",
   "metadata": {},
   "outputs": [],
   "source": [
    "# Randomize data 1 = 100%\n",
    "df.sample(frac=1)"
   ]
  },
  {
   "cell_type": "code",
   "execution_count": null,
   "id": "90c9dfac-cf7a-4cc6-9cad-9f700ee38a13",
   "metadata": {},
   "outputs": [],
   "source": [
    "# Reset index if necessary\n",
    "# df.reset_index(drop=True, inplace=True)"
   ]
  },
  {
   "cell_type": "markdown",
   "id": "8e50b331-3205-4246-b203-18a680ec1b3d",
   "metadata": {},
   "source": [
    "## Matplotlib flow"
   ]
  },
  {
   "cell_type": "code",
   "execution_count": null,
   "id": "78bc6b60-d04c-4913-9f83-fe9cc1b884d7",
   "metadata": {},
   "outputs": [],
   "source": [
    "# 1. Prepare data\n",
    "x = df[\"Total Sleep Duration\"]\n",
    "y = df[\"Readiness Score\"]\n",
    "\n",
    "# 2. Setup plot\n",
    "fig, ax = plt.subplots(figsize=(10, 10))\n",
    "\n",
    "# 3. Plot data\n",
    "ax.scatter(x,y)\n",
    "\n",
    "# 4. Customize plot\n",
    "ax.set(title=\"Simple Plot\", \n",
    "       xlabel=\"Total Sleep Duration\",\n",
    "       ylabel=\"Readiness Score\")\n",
    "\n",
    "# 5. Save and show (you save the whole figure)\n",
    "# fig.savefig(\"C:/Users/McLovin/OneDrive/Desktop/Capstone/New Data/Images/Figure_1.png\")"
   ]
  },
  {
   "cell_type": "code",
   "execution_count": null,
   "id": "c72d8223-6b90-4041-8ce8-e7dc4a7c36c0",
   "metadata": {},
   "outputs": [],
   "source": [
    "# 1. Prepare data\n",
    "x = df[\"Previous Night Score\"]\n",
    "y = df[\"Readiness Score\"]\n",
    "\n",
    "# 2. Setup plot\n",
    "fig, ax = plt.subplots(figsize=(10, 10))\n",
    "\n",
    "# 3. Plot data\n",
    "ax.scatter(x,y)\n",
    "\n",
    "# 4. Customize plot\n",
    "ax.set(title=\"Simple Plot\", \n",
    "       xlabel=\"Previous Night Score\",\n",
    "       ylabel=\"Readiness Score\")\n",
    "\n",
    "# 5. Save and show (you save the whole figure)\n",
    "# fig.savefig(\"C:/Users/McLovin/OneDrive/Desktop/Capstone/New Data/Images/Figure_2.png\")"
   ]
  },
  {
   "cell_type": "code",
   "execution_count": null,
   "id": "cf9a082e-f663-4ad1-8339-6b8695959b92",
   "metadata": {},
   "outputs": [],
   "source": [
    "# 1. Prepare data\n",
    "x = df[\"Move Every Hour Score\"]\n",
    "y = df[\"Readiness Score\"]\n",
    "\n",
    "# 2. Setup plot\n",
    "fig, ax = plt.subplots(figsize=(10, 10))\n",
    "\n",
    "# 3. Plot data\n",
    "ax.scatter(x,y)\n",
    "\n",
    "# 4. Customize plot\n",
    "ax.set(title=\"Simple Plot\", \n",
    "       xlabel=\"Move Every Hour Score\",\n",
    "       ylabel=\"Readiness Score\")\n",
    "\n",
    "# 5. Save and show (you save the whole figure)\n",
    "# fig.savefig(\"C:/Users/McLovin/OneDrive/Desktop/Capstone/New Data/Images/Figure_1.png\")"
   ]
  },
  {
   "cell_type": "code",
   "execution_count": null,
   "id": "fe1b5641-e2c9-4bd8-9612-ca110bed9843",
   "metadata": {},
   "outputs": [],
   "source": [
    "# 1. Prepare data\n",
    "x = df[\"Non-wear Time\"]\n",
    "y = df[\"Readiness Score\"]\n",
    "\n",
    "# 2. Setup plot\n",
    "fig, ax = plt.subplots(figsize=(10, 10))\n",
    "\n",
    "# 3. Plot data\n",
    "ax.scatter(x,y)\n",
    "\n",
    "# 4. Customize plot\n",
    "ax.set(title=\"Simple Plot\", \n",
    "       xlabel=\"Non-wear Time\",\n",
    "       ylabel=\"Readiness Score\")\n",
    "\n",
    "# 5. Save and show (you save the whole figure)\n",
    "# fig.savefig(\"C:/Users/McLovin/OneDrive/Desktop/Capstone/New Data/Images/Figure_1.png\")"
   ]
  },
  {
   "cell_type": "code",
   "execution_count": null,
   "id": "3d513d05-1b84-410f-9d2f-7ac56fe410a7",
   "metadata": {},
   "outputs": [],
   "source": [
    "# 1. Prepare data\n",
    "x = df[\"Rest Time\"]\n",
    "y = df[\"Readiness Score\"]\n",
    "\n",
    "# 2. Setup plot\n",
    "fig, ax = plt.subplots(figsize=(10, 10))\n",
    "\n",
    "# 3. Plot data\n",
    "ax.scatter(x,y)\n",
    "\n",
    "# 4. Customize plot\n",
    "ax.set(title=\"Simple Plot\", \n",
    "       xlabel=\"Rest Time\",\n",
    "       ylabel=\"Readiness Score\")\n",
    "\n",
    "# 5. Save and show (you save the whole figure)\n",
    "# fig.savefig(\"C:/Users/McLovin/OneDrive/Desktop/Capstone/New Data/Images/Figure_1.png\")"
   ]
  },
  {
   "cell_type": "code",
   "execution_count": null,
   "id": "8f18cde9-b71b-48d7-bc97-4aef464148ea",
   "metadata": {},
   "outputs": [],
   "source": [
    "# 1. Prepare data\n",
    "x = df[\"Previous Day Activity Score\"]\n",
    "y = df[\"Readiness Score\"]\n",
    "\n",
    "# 2. Setup plot\n",
    "fig, ax = plt.subplots(figsize=(10, 10))\n",
    "\n",
    "# 3. Plot data\n",
    "ax.scatter(x,y)\n",
    "\n",
    "# 4. Customize plot\n",
    "ax.set(title=\"Simple Plot\", \n",
    "       xlabel=\"Previous Day Activity Score\",\n",
    "       ylabel=\"Readiness Score\")\n",
    "\n",
    "# 5. Save and show (you save the whole figure)\n",
    "# fig.savefig(\"C:/Users/McLovin/OneDrive/Desktop/Capstone/New Data/Images/Figure_2.png\")"
   ]
  },
  {
   "cell_type": "markdown",
   "id": "4059d37c-19c2-4632-b9cc-d0e5c2e3cb81",
   "metadata": {},
   "source": [
    "## Remove data columns that are lagging data fields or not necessary"
   ]
  },
  {
   "cell_type": "code",
   "execution_count": null,
   "id": "6c015ee0-14af-4885-a77c-81bf631bdb7c",
   "metadata": {},
   "outputs": [],
   "source": [
    "df.drop(df.columns[[0,1,2,3,4,5,6,7,8,10,11,12,13,14,15,16,17,18,19,20,21,22,23,24,25,26,28,29,30,31,32,33,34,35,36,37,38,39,40,41,42,43,44,46,47,48,49,53]], axis=1, inplace=True)"
   ]
  },
  {
   "cell_type": "code",
   "execution_count": null,
   "id": "51ff1d5c-c0e8-4de8-9507-39834114248d",
   "metadata": {},
   "outputs": [],
   "source": [
    "df.info()"
   ]
  },
  {
   "cell_type": "code",
   "execution_count": null,
   "id": "46dc47a1-6a54-4cef-bcd8-2aa9885f2461",
   "metadata": {},
   "outputs": [],
   "source": [
    "df.describe()"
   ]
  },
  {
   "cell_type": "code",
   "execution_count": null,
   "id": "3d4992df-bc36-4746-af84-22dc6e9cf6fa",
   "metadata": {},
   "outputs": [],
   "source": [
    "# Average Readiness Score\n",
    "df[\"Readiness Score\"].mean()"
   ]
  },
  {
   "cell_type": "code",
   "execution_count": null,
   "id": "6d31bc4d-139c-4ae0-934f-a5776a8bb1e0",
   "metadata": {},
   "outputs": [],
   "source": [
    "len(df)"
   ]
  },
  {
   "cell_type": "markdown",
   "id": "48aff647-6569-4be7-8814-101ab80a3885",
   "metadata": {},
   "source": [
    "## Algorithm/Estimator"
   ]
  },
  {
   "cell_type": "code",
   "execution_count": null,
   "id": "f224c877-6715-4b9a-bce8-598b3caf21b2",
   "metadata": {},
   "outputs": [],
   "source": [
    "# Import algorithm/estimator\n",
    "\n",
    "# Instantiate and fit the model (on the training set)\n",
    "# Try RandomForest estimator\n",
    "\n",
    "\n",
    "from sklearn.ensemble import RandomForestClassifier\n",
    "model = RandomForestClassifier()\n",
    "\n",
    "# Setup random seed\n",
    "np.random.seed(42)\n",
    "\n",
    "# Create the data\n",
    "df.dropna(inplace=True)\n",
    "X = df.drop(\"Readiness Score\", axis=1)\n",
    "y = df[\"Readiness Score\"] #target\n",
    "\n",
    "# Split into train and test sets\n",
    "from sklearn.model_selection import train_test_split\n",
    "X_train, X_test, y_train, y_test = train_test_split(X, y, test_size=0.2)\n"
   ]
  },
  {
   "cell_type": "code",
   "execution_count": null,
   "id": "94929371-07da-4cfe-bf1b-5abc0d90e52f",
   "metadata": {},
   "outputs": [],
   "source": [
    "model.get_params()"
   ]
  },
  {
   "cell_type": "code",
   "execution_count": null,
   "id": "751a1bea-1af0-413a-b2f5-fc3a11060504",
   "metadata": {},
   "outputs": [],
   "source": [
    "model.fit(X_train, y_train);"
   ]
  },
  {
   "cell_type": "code",
   "execution_count": null,
   "id": "44d71fec-d27d-484a-b847-710a5c10bdd9",
   "metadata": {},
   "outputs": [],
   "source": [
    "y_preds = model.predict(X_test)"
   ]
  },
  {
   "cell_type": "code",
   "execution_count": null,
   "id": "16e9f6cc-3dcb-49bc-862a-3060aa7a1832",
   "metadata": {},
   "outputs": [],
   "source": [
    "model.score(X_test, y_test)"
   ]
  },
  {
   "cell_type": "code",
   "execution_count": null,
   "id": "1070d496-a92e-4484-a033-aaaab08cac66",
   "metadata": {},
   "outputs": [],
   "source": [
    "# Try Ridge Regression\n",
    "\n",
    "from sklearn.linear_model import Ridge\n",
    "\n",
    "model = Ridge()\n",
    "model.fit(X_train, y_train)\n",
    "\n",
    "# Check the score of the model (on the test set)\n",
    "model.score(X_test, y_test)"
   ]
  },
  {
   "cell_type": "code",
   "execution_count": null,
   "id": "a719b7e4-f7ba-4592-b326-630a01ba4417",
   "metadata": {
    "scrolled": true
   },
   "outputs": [],
   "source": [
    "model.get_params()"
   ]
  },
  {
   "cell_type": "code",
   "execution_count": null,
   "id": "67c36843-c7e3-4db4-a50d-c42fdf5e97c3",
   "metadata": {},
   "outputs": [],
   "source": [
    "from sklearn import linear_model\n",
    "model = linear_model.LassoLars(alpha=1.0)\n",
    "model.fit(X_train, y_train)\n",
    "\n",
    "# Check the score of the model (on the test set)\n",
    "model.score(X_test, y_test)"
   ]
  },
  {
   "cell_type": "markdown",
   "id": "bce466ba-8dcc-4df9-bdd8-bec4e987338a",
   "metadata": {},
   "source": [
    "## Make Predictions Using Machine Language Model"
   ]
  },
  {
   "cell_type": "code",
   "execution_count": null,
   "id": "cdd2c3cb-52af-4650-ae0f-9704ef6b95ed",
   "metadata": {},
   "outputs": [],
   "source": [
    "test_data = pd.read_csv(\"New Data/oura_2023-09-17_2023-09-17_trends.csv\")"
   ]
  },
  {
   "cell_type": "code",
   "execution_count": null,
   "id": "b57d4d89-e3c3-462e-b14a-d6e0c211ec1e",
   "metadata": {},
   "outputs": [],
   "source": [
    "test_data.drop(test_data.columns[[0,1,2,3,4,5,6,7,8,10,11,12,13,14,15,16,17,18,19,20,21,22,23,24,25,26,28,29,30,31,32,33,34,35,36,37,38,39,40,41,42,43,44,46,47,48,49,53]], axis=1, inplace=True)\n",
    "test_data.info()"
   ]
  },
  {
   "cell_type": "code",
   "execution_count": null,
   "id": "907435ff-a31a-4322-89f4-36e117f65ad3",
   "metadata": {},
   "outputs": [],
   "source": [
    "## Remove Readiness Score\n",
    "test_data.drop(test_data.columns[2], axis=1, inplace=True)\n",
    "test_data.info()"
   ]
  },
  {
   "cell_type": "code",
   "execution_count": null,
   "id": "00a8c827-8f56-444e-9299-23c37e0c714f",
   "metadata": {},
   "outputs": [],
   "source": [
    "test_data.info()"
   ]
  },
  {
   "cell_type": "code",
   "execution_count": null,
   "id": "6f2125c4-f5a2-46c7-aa8d-691c7b6569f2",
   "metadata": {},
   "outputs": [],
   "source": [
    "## Convert Total Sleep Duration to hours\n",
    "test_data[\"Total Sleep Duration\"] = test_data[\"Total Sleep Duration\"] / 3600"
   ]
  },
  {
   "cell_type": "code",
   "execution_count": null,
   "id": "10ca8f3b-3240-4f27-8fb2-5781a9cd4ae5",
   "metadata": {},
   "outputs": [],
   "source": [
    "sleep_hours_pred = float(input(\"How many hours of planned sleep? \"))\n",
    "print(sleep_hours_pred)"
   ]
  },
  {
   "cell_type": "code",
   "execution_count": null,
   "id": "e952b678-b9ed-4a12-a641-1285b2c87e29",
   "metadata": {},
   "outputs": [],
   "source": [
    "test_data"
   ]
  },
  {
   "cell_type": "code",
   "execution_count": null,
   "id": "e8c8231a-0f88-4611-bf49-9cf8eef37f19",
   "metadata": {},
   "outputs": [],
   "source": [
    "test_data[\"Total Sleep Duration\"] = sleep_hours_pred\n",
    "test_data"
   ]
  },
  {
   "cell_type": "code",
   "execution_count": null,
   "id": "6e62d022-6b9f-4cca-9511-d7cd132d154c",
   "metadata": {},
   "outputs": [],
   "source": [
    "model.predict(test_data)"
   ]
  },
  {
   "cell_type": "code",
   "execution_count": null,
   "id": "a6541328-5fed-406d-8028-e4c7b36aedd0",
   "metadata": {},
   "outputs": [],
   "source": [
    "!jupyter nbconvert --to script Capstone.ipynb\n",
    "with open('Capstone.py', 'r') as f:\n",
    "    lines = f.readlines()\n",
    "with open('Capstone.py', 'w') as f:\n",
    "    for line in lines:\n",
    "        if 'nbconvert --to script' in line:\n",
    "            break\n",
    "        else:\n",
    "            f.write(line)"
   ]
  },
  {
   "cell_type": "code",
   "execution_count": null,
   "id": "c7b56b3c-7396-46ba-a8f8-079cf7ca72d4",
   "metadata": {},
   "outputs": [],
   "source": []
  }
 ],
 "metadata": {
  "kernelspec": {
   "display_name": "Python 3 (Spyder)",
   "language": "python3",
   "name": "python3"
  },
  "language_info": {
   "codemirror_mode": {
    "name": "ipython",
    "version": 3
   },
   "file_extension": ".py",
   "mimetype": "text/x-python",
   "name": "python",
   "nbconvert_exporter": "python",
   "pygments_lexer": "ipython3",
   "version": "3.11.5"
  }
 },
 "nbformat": 4,
 "nbformat_minor": 5
}
